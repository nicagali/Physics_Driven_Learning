{
 "cells": [
  {
   "cell_type": "markdown",
   "metadata": {},
   "source": [
    "## Introducing Memristors in the simple Voltage Divider\n",
    "\n",
    "Since we can not consider a single resistor system, we consider the system with two resistors and try to subsititue one with a memristors. The idea is that the resistor will be trained following coupled learning rules (continuous), while the memristor by applying a specific potential shape at its boundaries."
   ]
  },
  {
   "cell_type": "code",
   "execution_count": 17,
   "metadata": {},
   "outputs": [
    {
     "name": "stdout",
     "output_type": "stream",
     "text": [
      "The autoreload extension is already loaded. To reload it, use:\n",
      "  %reload_ext autoreload\n"
     ]
    }
   ],
   "source": [
    "%load_ext autoreload\n",
    "%autoreload 2\n",
    "\n",
    "import sys\n",
    "import matplotlib.pyplot as plt\n",
    "sys.path.append('../../codes/')\n",
    "import plotting_functions\n",
    "import graphs\n",
    "import training_memrisotrs\n",
    "# sys.path.append('../../../../Ionic_Channels/codes/')\n",
    "# import odeint_solver\n"
   ]
  },
  {
   "cell_type": "code",
   "execution_count": 18,
   "metadata": {},
   "outputs": [
    {
     "data": {
      "image/png": "[encoded data removed]",
      "text/plain": [
       "<Figure size 640x480 with 1 Axes>"
      ]
     },
     "metadata": {},
     "output_type": "display_data"
    }
   ],
   "source": [
    "# Choose the graph: select desired parameters \n",
    "G = graphs.simple_graph(save_data=True)\n",
    "fig, ax = plt.subplots()\n",
    "plotting_functions.plot_graph(ax, fig, 'simple_graph')\n",
    "\n",
    "# Don't change the graph G itself here below"
   ]
  },
  {
   "cell_type": "code",
   "execution_count": 22,
   "metadata": {},
   "outputs": [
    {
     "ename": "NameError",
     "evalue": "name 'initial_time' is not defined",
     "output_type": "error",
     "traceback": [
      "\u001b[0;31m---------------------------------------------------------------------------\u001b[0m",
      "\u001b[0;31mNameError\u001b[0m                                 Traceback (most recent call last)",
      "Cell \u001b[0;32mIn[22], line 3\u001b[0m\n\u001b[1;32m      1\u001b[0m G_trained \u001b[38;5;241m=\u001b[39m G\u001b[38;5;241m.\u001b[39mcopy(as_view\u001b[38;5;241m=\u001b[39m\u001b[38;5;28;01mFalse\u001b[39;00m)\n\u001b[0;32m----> 3\u001b[0m G \u001b[38;5;241m=\u001b[39m \u001b[43mtraining_memrisotrs\u001b[49m\u001b[38;5;241;43m.\u001b[39;49m\u001b[43mtraining_epoch\u001b[49m\u001b[43m(\u001b[49m\u001b[43mG_trained\u001b[49m\u001b[43m)\u001b[49m\n",
      "File \u001b[0;32m~/nica/phd/Projects/Dillavou/general_network/notes/Jupiter-notebooks/../../codes/training_memrisotrs.py:44\u001b[0m, in \u001b[0;36mtraining_epoch\u001b[0;34m(G)\u001b[0m\n\u001b[1;32m     40\u001b[0m voltages_change_file\u001b[38;5;241m.\u001b[39mwrite(\u001b[38;5;124mf\u001b[39m\u001b[38;5;124m\"\u001b[39m\u001b[38;5;132;01m{\u001b[39;00mdesired_output[\u001b[38;5;241m0\u001b[39m]\u001b[38;5;132;01m}\u001b[39;00m\u001b[38;5;130;01m\\n\u001b[39;00m\u001b[38;5;124m\"\u001b[39m)\n\u001b[1;32m     42\u001b[0m conductances_change_file \u001b[38;5;241m=\u001b[39m \u001b[38;5;28mopen\u001b[39m(\u001b[38;5;124mf\u001b[39m\u001b[38;5;124m\"\u001b[39m\u001b[38;5;132;01m{\u001b[39;00mDATA_PATH\u001b[38;5;132;01m}\u001b[39;00m\u001b[38;5;124mconductances_change.txt\u001b[39m\u001b[38;5;124m\"\u001b[39m, \u001b[38;5;124m\"\u001b[39m\u001b[38;5;124mw\u001b[39m\u001b[38;5;124m\"\u001b[39m) \n\u001b[0;32m---> 44\u001b[0m \u001b[43modeint_solver\u001b[49m\u001b[38;5;241;43m.\u001b[39;49m\u001b[43meuler_forward_solver\u001b[49m\u001b[43m(\u001b[49m\u001b[38;5;124;43m'\u001b[39;49m\u001b[38;5;124;43msquare\u001b[39;49m\u001b[38;5;124;43m'\u001b[39;49m\u001b[43m)\u001b[49m\n\u001b[1;32m     45\u001b[0m data \u001b[38;5;241m=\u001b[39m np\u001b[38;5;241m.\u001b[39mloadtxt(\u001b[38;5;124mf\u001b[39m\u001b[38;5;124m\"\u001b[39m\u001b[38;5;132;01m{\u001b[39;00mDATA_IONCHAN_PATH\u001b[38;5;132;01m}\u001b[39;00m\u001b[38;5;124msolution_euler.txt\u001b[39m\u001b[38;5;124m\"\u001b[39m, unpack\u001b[38;5;241m=\u001b[39m\u001b[38;5;28;01mTrue\u001b[39;00m)\n\u001b[1;32m     46\u001b[0m g_solution \u001b[38;5;241m=\u001b[39m data[\u001b[38;5;241m1\u001b[39m]\n",
      "File \u001b[0;32m~/nica/phd/Projects/Ionic_Channels/codes/odeint_solver.py:85\u001b[0m, in \u001b[0;36meuler_forward_solver\u001b[0;34m(potential_shape)\u001b[0m\n\u001b[1;32m     83\u001b[0m \u001b[38;5;28;01mdef\u001b[39;00m \u001b[38;5;21meuler_forward_solver\u001b[39m(potential_shape):\n\u001b[0;32m---> 85\u001b[0m     time_interval \u001b[38;5;241m=\u001b[39m np\u001b[38;5;241m.\u001b[39mlinspace(\u001b[43minitial_time\u001b[49m,final_time,time_steps)\n\u001b[1;32m     87\u001b[0m     solution_euler \u001b[38;5;241m=\u001b[39m \u001b[38;5;28mopen\u001b[39m(\u001b[38;5;124mf\u001b[39m\u001b[38;5;124m\"\u001b[39m\u001b[38;5;132;01m{\u001b[39;00mDATA_PATH\u001b[38;5;132;01m}\u001b[39;00m\u001b[38;5;124msolution_euler.txt\u001b[39m\u001b[38;5;124m\"\u001b[39m, \u001b[38;5;124m\"\u001b[39m\u001b[38;5;124mw\u001b[39m\u001b[38;5;124m\"\u001b[39m)\n\u001b[1;32m     89\u001b[0m     g\u001b[38;5;241m=\u001b[39minital_condition\n",
      "\u001b[0;31mNameError\u001b[0m: name 'initial_time' is not defined"
     ]
    }
   ],
   "source": [
    "G_trained = G.copy(as_view=False)\n",
    "\n",
    "G = training_memrisotrs.training_epoch(G_trained)"
   ]
  }
 ],
 "metadata": {
  "kernelspec": {
   "display_name": "venv",
   "language": "python",
   "name": "python3"
  },
  "language_info": {
   "codemirror_mode": {
    "name": "ipython",
    "version": 3
   },
   "file_extension": ".py",
   "mimetype": "text/x-python",
   "name": "python",
   "nbconvert_exporter": "python",
   "pygments_lexer": "ipython3",
   "version": "3.10.12"
  }
 },
 "nbformat": 4,
 "nbformat_minor": 2
}

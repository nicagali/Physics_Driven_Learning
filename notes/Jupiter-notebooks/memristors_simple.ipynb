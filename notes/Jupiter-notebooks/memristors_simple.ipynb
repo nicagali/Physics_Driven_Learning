{
 "cells": [
  {
   "cell_type": "markdown",
   "metadata": {},
   "source": [
    "## Introducing Memristors in the simple Voltage Divider\n",
    "\n",
    "Since we can not consider a single resistor system, we consider the system with two resistors and try to subsititue one with a memristors. The idea is that the resistor will be trained following coupled learning rules (continuous), while the memristor by applying a specific potential shape at its boundaries."
   ]
  }
 ],
 "metadata": {
  "language_info": {
   "name": "python"
  }
 },
 "nbformat": 4,
 "nbformat_minor": 2
}
